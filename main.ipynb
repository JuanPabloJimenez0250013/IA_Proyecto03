{
 "cells": [
  {
   "cell_type": "code",
   "execution_count": 1,
   "metadata": {},
   "outputs": [
    {
     "name": "stdout",
     "output_type": "stream",
     "text": [
      "pygame 2.5.2 (SDL 2.28.2, Python 3.12.3)\n",
      "Hello from the pygame community. https://www.pygame.org/contribute.html\n"
     ]
    }
   ],
   "source": [
    "import networkx as nx\n",
    "import pygame"
   ]
  },
  {
   "cell_type": "code",
   "execution_count": 6,
   "metadata": {},
   "outputs": [],
   "source": [
    "# GLOBAL VARIABLES\n",
    "WHITE = (255,255,255)\n",
    "BLACK = (0,0,0)\n",
    "GREY = (194,194,194)\n",
    "BLUE = (25, 166, 194)\n",
    "DARK_BLUE = (21, 134, 157)\n"
   ]
  },
  {
   "cell_type": "code",
   "execution_count": 219,
   "metadata": {},
   "outputs": [],
   "source": [
    "def draw_contour(screen, size, color):\n",
    "    pygame.draw.rect(screen, color, pygame.Rect(400-(size/2), 300-(size/2), size, size))\n",
    "    \n",
    "def draw_rounded_rect(screen, color, x, y, w, h, radius):\n",
    "    pygame.draw.rect(screen, color, (x + radius, y, w - 2 * radius, h))\n",
    "    pygame.draw.rect(screen, color, (x, y + radius, w, h - 2 * radius))\n",
    "    pygame.draw.circle(screen, color, (x + radius, y + radius), radius)\n",
    "    pygame.draw.circle(screen, color, (x + w - radius, y + radius), radius)\n",
    "    pygame.draw.circle(screen, color, (x + radius, y + h - radius), radius)\n",
    "    pygame.draw.circle(screen, color, (x + w - radius, y + h - radius), radius)\n",
    "    \n",
    "def draw_text(screen, text, x, y, font_size, color):\n",
    "    font = pygame.font.Font(None, font_size)\n",
    "    text = font.render(text, True, color)\n",
    "    screen.blit(text, (x, y))\n",
    "    \n",
    "def draw_pieces(screen,positions):\n",
    "    row = -1\n",
    "    for i in range(9):\n",
    "        if (i % 3 == 0): row += 1 \n",
    "        if (positions[i] != 0):\n",
    "            draw_rounded_rect(screen, BLACK, (1.485*(i % 3) + 1.0017)*124, (7.67*(row % 3) + 1.0017)*24, 184, 184, 10)\n",
    "            draw_rounded_rect(screen, WHITE, (1.485*(i % 3) + 1.0017)*(124) + 2, (7.67*(row % 3) + 1.0017)*(24) + 2, 180, 180, 10) \n",
    "            draw_text(screen, str(positions[i]), (1.485*(i % 3) + 1.53)*124,(7.67*(row % 3) + 3)*24,150,BLACK)\n"
   ]
  },
  {
   "cell_type": "code",
   "execution_count": 225,
   "metadata": {},
   "outputs": [],
   "source": [
    "values = (0,1,2,3,4,5,6,7,8)\n",
    "\n",
    "# Initialize Pygame\n",
    "pygame.init()\n",
    "\n",
    "# Set the dimensions of the window\n",
    "screen_width = 800\n",
    "screen_height = 600\n",
    "\n",
    "# Create the screen\n",
    "screen = pygame.display.set_mode((screen_width, screen_height))\n",
    "\n",
    "# Set the title of the window\n",
    "pygame.display.set_caption(\"8-Puzzle\")\n",
    "\n",
    "# Main loop\n",
    "running = True\n",
    "while running:\n",
    "    for event in pygame.event.get():\n",
    "        if event.type == pygame.QUIT:\n",
    "            running = False\n",
    "\n",
    "    # Fill the screen with a color (RGB: Red, Green, Blue)\n",
    "    screen.fill(WHITE) \n",
    "    draw_contour(screen, 600, DARK_BLUE)\n",
    "    draw_contour(screen, 585, BLUE)\n",
    "    draw_contour(screen, 552, GREY)\n",
    "    draw_pieces(screen, values)\n",
    "\n",
    "    # Update the display\n",
    "    pygame.display.flip()\n",
    "\n",
    "# Quit Pygame\n",
    "pygame.quit()"
   ]
  },
  {
   "cell_type": "code",
   "execution_count": 2,
   "metadata": {},
   "outputs": [
    {
     "name": "stdout",
     "output_type": "stream",
     "text": [
      "Hello World\n"
     ]
    }
   ],
   "source": [
    "numbers = [1,2,3,\n",
    "           4,5,6,\n",
    "           7,8,9]\n",
    "\n"
   ]
  }
 ],
 "metadata": {
  "kernelspec": {
   "display_name": "iap03venv",
   "language": "python",
   "name": "python3"
  },
  "language_info": {
   "codemirror_mode": {
    "name": "ipython",
    "version": 3
   },
   "file_extension": ".py",
   "mimetype": "text/x-python",
   "name": "python",
   "nbconvert_exporter": "python",
   "pygments_lexer": "ipython3",
   "version": "3.12.3"
  }
 },
 "nbformat": 4,
 "nbformat_minor": 2
}
